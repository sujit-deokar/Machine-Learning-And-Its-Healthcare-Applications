{
 "cells": [
  {
   "cell_type": "code",
   "execution_count": 21,
   "metadata": {},
   "outputs": [],
   "source": [
    "import pandas as pd\n",
    "import numpy as np\n",
    "from sklearn.model_selection import train_test_split \n",
    "from sklearn.tree import DecisionTreeRegressor\n",
    "import matplotlib.pyplot as plt"
   ]
  },
  {
   "cell_type": "code",
   "execution_count": 2,
   "metadata": {},
   "outputs": [
    {
     "data": {
      "text/html": [
       "<div>\n",
       "<style scoped>\n",
       "    .dataframe tbody tr th:only-of-type {\n",
       "        vertical-align: middle;\n",
       "    }\n",
       "\n",
       "    .dataframe tbody tr th {\n",
       "        vertical-align: top;\n",
       "    }\n",
       "\n",
       "    .dataframe thead th {\n",
       "        text-align: right;\n",
       "    }\n",
       "</style>\n",
       "<table border=\"1\" class=\"dataframe\">\n",
       "  <thead>\n",
       "    <tr style=\"text-align: right;\">\n",
       "      <th></th>\n",
       "      <th>DiabetesPedigreeFunction</th>\n",
       "      <th>Insulin</th>\n",
       "      <th>BloodPressure</th>\n",
       "      <th>Glucose</th>\n",
       "      <th>Outcome</th>\n",
       "      <th>Pregnancies</th>\n",
       "      <th>BMI</th>\n",
       "      <th>SkinThickness</th>\n",
       "      <th>Age</th>\n",
       "    </tr>\n",
       "  </thead>\n",
       "  <tbody>\n",
       "    <tr>\n",
       "      <th>0</th>\n",
       "      <td>0.627</td>\n",
       "      <td>0</td>\n",
       "      <td>72</td>\n",
       "      <td>148</td>\n",
       "      <td>1</td>\n",
       "      <td>6</td>\n",
       "      <td>33.6</td>\n",
       "      <td>35</td>\n",
       "      <td>50</td>\n",
       "    </tr>\n",
       "    <tr>\n",
       "      <th>1</th>\n",
       "      <td>0.351</td>\n",
       "      <td>0</td>\n",
       "      <td>66</td>\n",
       "      <td>85</td>\n",
       "      <td>0</td>\n",
       "      <td>1</td>\n",
       "      <td>26.6</td>\n",
       "      <td>29</td>\n",
       "      <td>31</td>\n",
       "    </tr>\n",
       "    <tr>\n",
       "      <th>2</th>\n",
       "      <td>0.672</td>\n",
       "      <td>0</td>\n",
       "      <td>64</td>\n",
       "      <td>183</td>\n",
       "      <td>1</td>\n",
       "      <td>8</td>\n",
       "      <td>23.3</td>\n",
       "      <td>0</td>\n",
       "      <td>32</td>\n",
       "    </tr>\n",
       "    <tr>\n",
       "      <th>3</th>\n",
       "      <td>0.167</td>\n",
       "      <td>94</td>\n",
       "      <td>66</td>\n",
       "      <td>89</td>\n",
       "      <td>0</td>\n",
       "      <td>1</td>\n",
       "      <td>28.1</td>\n",
       "      <td>23</td>\n",
       "      <td>21</td>\n",
       "    </tr>\n",
       "    <tr>\n",
       "      <th>4</th>\n",
       "      <td>2.288</td>\n",
       "      <td>168</td>\n",
       "      <td>40</td>\n",
       "      <td>137</td>\n",
       "      <td>1</td>\n",
       "      <td>0</td>\n",
       "      <td>43.1</td>\n",
       "      <td>35</td>\n",
       "      <td>33</td>\n",
       "    </tr>\n",
       "  </tbody>\n",
       "</table>\n",
       "</div>"
      ],
      "text/plain": [
       "   DiabetesPedigreeFunction  Insulin  BloodPressure  Glucose  Outcome  \\\n",
       "0                     0.627        0             72      148        1   \n",
       "1                     0.351        0             66       85        0   \n",
       "2                     0.672        0             64      183        1   \n",
       "3                     0.167       94             66       89        0   \n",
       "4                     2.288      168             40      137        1   \n",
       "\n",
       "   Pregnancies   BMI  SkinThickness  Age  \n",
       "0            6  33.6             35   50  \n",
       "1            1  26.6             29   31  \n",
       "2            8  23.3              0   32  \n",
       "3            1  28.1             23   21  \n",
       "4            0  43.1             35   33  "
      ]
     },
     "execution_count": 2,
     "metadata": {},
     "output_type": "execute_result"
    }
   ],
   "source": [
    "data = pd.read_csv(\"PIMAIndianDiabetes.csv\")\n",
    "data.head()"
   ]
  },
  {
   "cell_type": "code",
   "execution_count": 7,
   "metadata": {},
   "outputs": [],
   "source": [
    "X = data[data.columns[1:]]\n",
    "y = data['DiabetesPedigreeFunction']"
   ]
  },
  {
   "cell_type": "code",
   "execution_count": 8,
   "metadata": {},
   "outputs": [],
   "source": [
    "X_train, X_test, y_train, y_test = train_test_split(X, y, test_size = 0.4, random_state=42)"
   ]
  },
  {
   "cell_type": "code",
   "execution_count": 27,
   "metadata": {},
   "outputs": [],
   "source": [
    "clf = DecisionTreeRegressor(random_state=2019,max_depth=3)\n",
    "clf2 = clf.fit(X_train, y_train)\n"
   ]
  },
  {
   "cell_type": "code",
   "execution_count": 28,
   "metadata": {},
   "outputs": [],
   "source": [
    "import graphviz \n",
    "from sklearn import tree"
   ]
  },
  {
   "cell_type": "code",
   "execution_count": 29,
   "metadata": {},
   "outputs": [
    {
     "data": {
      "image/svg+xml": [
       "<?xml version=\"1.0\" encoding=\"UTF-8\" standalone=\"no\"?>\n",
       "<!DOCTYPE svg PUBLIC \"-//W3C//DTD SVG 1.1//EN\"\n",
       " \"http://www.w3.org/Graphics/SVG/1.1/DTD/svg11.dtd\">\n",
       "<!-- Generated by graphviz version 2.46.0 (20210118.1747)\n",
       " -->\n",
       "<!-- Title: Tree Pages: 1 -->\n",
       "<svg width=\"464pt\" height=\"373pt\"\n",
       " viewBox=\"0.00 0.00 464.00 373.00\" xmlns=\"http://www.w3.org/2000/svg\" xmlns:xlink=\"http://www.w3.org/1999/xlink\">\n",
       "<g id=\"graph0\" class=\"graph\" transform=\"scale(1 1) rotate(0) translate(4 369)\">\n",
       "<title>Tree</title>\n",
       "<polygon fill=\"white\" stroke=\"transparent\" points=\"-4,4 -4,-369 460,-369 460,4 -4,4\"/>\n",
       "<!-- 0 -->\n",
       "<g id=\"node1\" class=\"node\">\n",
       "<title>0</title>\n",
       "<path fill=\"#fefbf9\" stroke=\"black\" d=\"M350.5,-365C350.5,-365 229.5,-365 229.5,-365 223.5,-365 217.5,-359 217.5,-353 217.5,-353 217.5,-309 217.5,-309 217.5,-303 223.5,-297 229.5,-297 229.5,-297 350.5,-297 350.5,-297 356.5,-297 362.5,-303 362.5,-309 362.5,-309 362.5,-353 362.5,-353 362.5,-359 356.5,-365 350.5,-365\"/>\n",
       "<text text-anchor=\"start\" x=\"225.5\" y=\"-349.8\" font-family=\"Helvetica,sans-Serif\" font-size=\"14.00\">SkinThickness ≤ 61.5</text>\n",
       "<text text-anchor=\"start\" x=\"252\" y=\"-334.8\" font-family=\"Helvetica,sans-Serif\" font-size=\"14.00\">mse = 0.122</text>\n",
       "<text text-anchor=\"start\" x=\"245\" y=\"-319.8\" font-family=\"Helvetica,sans-Serif\" font-size=\"14.00\">samples = 460</text>\n",
       "<text text-anchor=\"start\" x=\"249\" y=\"-304.8\" font-family=\"Helvetica,sans-Serif\" font-size=\"14.00\">value = 0.474</text>\n",
       "</g>\n",
       "<!-- 1 -->\n",
       "<g id=\"node2\" class=\"node\">\n",
       "<title>1</title>\n",
       "<path fill=\"#fefbf9\" stroke=\"black\" d=\"M273,-261C273,-261 191,-261 191,-261 185,-261 179,-255 179,-249 179,-249 179,-205 179,-205 179,-199 185,-193 191,-193 191,-193 273,-193 273,-193 279,-193 285,-199 285,-205 285,-205 285,-249 285,-249 285,-255 279,-261 273,-261\"/>\n",
       "<text text-anchor=\"start\" x=\"195\" y=\"-245.8\" font-family=\"Helvetica,sans-Serif\" font-size=\"14.00\">BMI ≤ 39.95</text>\n",
       "<text text-anchor=\"start\" x=\"194\" y=\"-230.8\" font-family=\"Helvetica,sans-Serif\" font-size=\"14.00\">mse = 0.114</text>\n",
       "<text text-anchor=\"start\" x=\"187\" y=\"-215.8\" font-family=\"Helvetica,sans-Serif\" font-size=\"14.00\">samples = 459</text>\n",
       "<text text-anchor=\"start\" x=\"194.5\" y=\"-200.8\" font-family=\"Helvetica,sans-Serif\" font-size=\"14.00\">value = 0.47</text>\n",
       "</g>\n",
       "<!-- 0&#45;&gt;1 -->\n",
       "<g id=\"edge1\" class=\"edge\">\n",
       "<title>0&#45;&gt;1</title>\n",
       "<path fill=\"none\" stroke=\"black\" d=\"M271.17,-296.88C266.31,-288.33 261.01,-279.01 255.92,-270.07\"/>\n",
       "<polygon fill=\"black\" stroke=\"black\" points=\"258.92,-268.26 250.93,-261.3 252.84,-271.72 258.92,-268.26\"/>\n",
       "<text text-anchor=\"middle\" x=\"244.31\" y=\"-281.7\" font-family=\"Helvetica,sans-Serif\" font-size=\"14.00\">True</text>\n",
       "</g>\n",
       "<!-- 8 -->\n",
       "<g id=\"node9\" class=\"node\">\n",
       "<title>8</title>\n",
       "<path fill=\"#e58139\" stroke=\"black\" d=\"M382.5,-253.5C382.5,-253.5 315.5,-253.5 315.5,-253.5 309.5,-253.5 303.5,-247.5 303.5,-241.5 303.5,-241.5 303.5,-212.5 303.5,-212.5 303.5,-206.5 309.5,-200.5 315.5,-200.5 315.5,-200.5 382.5,-200.5 382.5,-200.5 388.5,-200.5 394.5,-206.5 394.5,-212.5 394.5,-212.5 394.5,-241.5 394.5,-241.5 394.5,-247.5 388.5,-253.5 382.5,-253.5\"/>\n",
       "<text text-anchor=\"start\" x=\"318.5\" y=\"-238.3\" font-family=\"Helvetica,sans-Serif\" font-size=\"14.00\">mse = 0.0</text>\n",
       "<text text-anchor=\"start\" x=\"311.5\" y=\"-223.3\" font-family=\"Helvetica,sans-Serif\" font-size=\"14.00\">samples = 1</text>\n",
       "<text text-anchor=\"start\" x=\"311.5\" y=\"-208.3\" font-family=\"Helvetica,sans-Serif\" font-size=\"14.00\">value = 2.42</text>\n",
       "</g>\n",
       "<!-- 0&#45;&gt;8 -->\n",
       "<g id=\"edge8\" class=\"edge\">\n",
       "<title>0&#45;&gt;8</title>\n",
       "<path fill=\"none\" stroke=\"black\" d=\"M309.16,-296.88C315.58,-285.78 322.76,-273.37 329.23,-262.18\"/>\n",
       "<polygon fill=\"black\" stroke=\"black\" points=\"332.26,-263.93 334.24,-253.52 326.2,-260.42 332.26,-263.93\"/>\n",
       "<text text-anchor=\"middle\" x=\"340.69\" y=\"-273.97\" font-family=\"Helvetica,sans-Serif\" font-size=\"14.00\">False</text>\n",
       "</g>\n",
       "<!-- 2 -->\n",
       "<g id=\"node3\" class=\"node\">\n",
       "<title>2</title>\n",
       "<path fill=\"#fffdfc\" stroke=\"black\" d=\"M213,-157C213,-157 131,-157 131,-157 125,-157 119,-151 119,-145 119,-145 119,-101 119,-101 119,-95 125,-89 131,-89 131,-89 213,-89 213,-89 219,-89 225,-95 225,-101 225,-101 225,-145 225,-145 225,-151 219,-157 213,-157\"/>\n",
       "<text text-anchor=\"start\" x=\"128\" y=\"-141.8\" font-family=\"Helvetica,sans-Serif\" font-size=\"14.00\">Insulin ≤ 150.0</text>\n",
       "<text text-anchor=\"start\" x=\"134\" y=\"-126.8\" font-family=\"Helvetica,sans-Serif\" font-size=\"14.00\">mse = 0.096</text>\n",
       "<text text-anchor=\"start\" x=\"127\" y=\"-111.8\" font-family=\"Helvetica,sans-Serif\" font-size=\"14.00\">samples = 401</text>\n",
       "<text text-anchor=\"start\" x=\"131\" y=\"-96.8\" font-family=\"Helvetica,sans-Serif\" font-size=\"14.00\">value = 0.443</text>\n",
       "</g>\n",
       "<!-- 1&#45;&gt;2 -->\n",
       "<g id=\"edge2\" class=\"edge\">\n",
       "<title>1&#45;&gt;2</title>\n",
       "<path fill=\"none\" stroke=\"black\" d=\"M212.52,-192.88C207.49,-184.33 202.01,-175.01 196.75,-166.07\"/>\n",
       "<polygon fill=\"black\" stroke=\"black\" points=\"199.67,-164.14 191.59,-157.3 193.64,-167.69 199.67,-164.14\"/>\n",
       "</g>\n",
       "<!-- 5 -->\n",
       "<g id=\"node6\" class=\"node\">\n",
       "<title>5</title>\n",
       "<path fill=\"#fcf0e7\" stroke=\"black\" d=\"M329,-157C329,-157 255,-157 255,-157 249,-157 243,-151 243,-145 243,-145 243,-101 243,-101 243,-95 249,-89 255,-89 255,-89 329,-89 329,-89 335,-89 341,-95 341,-101 341,-101 341,-145 341,-145 341,-151 335,-157 329,-157\"/>\n",
       "<text text-anchor=\"start\" x=\"258.5\" y=\"-141.8\" font-family=\"Helvetica,sans-Serif\" font-size=\"14.00\">BMI ≤ 43.2</text>\n",
       "<text text-anchor=\"start\" x=\"254\" y=\"-126.8\" font-family=\"Helvetica,sans-Serif\" font-size=\"14.00\">mse = 0.206</text>\n",
       "<text text-anchor=\"start\" x=\"251\" y=\"-111.8\" font-family=\"Helvetica,sans-Serif\" font-size=\"14.00\">samples = 58</text>\n",
       "<text text-anchor=\"start\" x=\"251\" y=\"-96.8\" font-family=\"Helvetica,sans-Serif\" font-size=\"14.00\">value = 0.653</text>\n",
       "</g>\n",
       "<!-- 1&#45;&gt;5 -->\n",
       "<g id=\"edge5\" class=\"edge\">\n",
       "<title>1&#45;&gt;5</title>\n",
       "<path fill=\"none\" stroke=\"black\" d=\"M251.48,-192.88C256.51,-184.33 261.99,-175.01 267.25,-166.07\"/>\n",
       "<polygon fill=\"black\" stroke=\"black\" points=\"270.36,-167.69 272.41,-157.3 264.33,-164.14 270.36,-167.69\"/>\n",
       "</g>\n",
       "<!-- 3 -->\n",
       "<g id=\"node4\" class=\"node\">\n",
       "<title>3</title>\n",
       "<path fill=\"#ffffff\" stroke=\"black\" d=\"M94,-53C94,-53 12,-53 12,-53 6,-53 0,-47 0,-41 0,-41 0,-12 0,-12 0,-6 6,0 12,0 12,0 94,0 94,0 100,0 106,-6 106,-12 106,-12 106,-41 106,-41 106,-47 100,-53 94,-53\"/>\n",
       "<text text-anchor=\"start\" x=\"15\" y=\"-37.8\" font-family=\"Helvetica,sans-Serif\" font-size=\"14.00\">mse = 0.075</text>\n",
       "<text text-anchor=\"start\" x=\"8\" y=\"-22.8\" font-family=\"Helvetica,sans-Serif\" font-size=\"14.00\">samples = 325</text>\n",
       "<text text-anchor=\"start\" x=\"12\" y=\"-7.8\" font-family=\"Helvetica,sans-Serif\" font-size=\"14.00\">value = 0.408</text>\n",
       "</g>\n",
       "<!-- 2&#45;&gt;3 -->\n",
       "<g id=\"edge3\" class=\"edge\">\n",
       "<title>2&#45;&gt;3</title>\n",
       "<path fill=\"none\" stroke=\"black\" d=\"M130.38,-88.95C118.4,-79.43 105.35,-69.07 93.44,-59.62\"/>\n",
       "<polygon fill=\"black\" stroke=\"black\" points=\"95.42,-56.71 85.41,-53.24 91.06,-62.2 95.42,-56.71\"/>\n",
       "</g>\n",
       "<!-- 4 -->\n",
       "<g id=\"node5\" class=\"node\">\n",
       "<title>4</title>\n",
       "<path fill=\"#fdf3ed\" stroke=\"black\" d=\"M210,-53C210,-53 136,-53 136,-53 130,-53 124,-47 124,-41 124,-41 124,-12 124,-12 124,-6 130,0 136,0 136,0 210,0 210,0 216,0 222,-6 222,-12 222,-12 222,-41 222,-41 222,-47 216,-53 210,-53\"/>\n",
       "<text text-anchor=\"start\" x=\"135\" y=\"-37.8\" font-family=\"Helvetica,sans-Serif\" font-size=\"14.00\">mse = 0.155</text>\n",
       "<text text-anchor=\"start\" x=\"132\" y=\"-22.8\" font-family=\"Helvetica,sans-Serif\" font-size=\"14.00\">samples = 76</text>\n",
       "<text text-anchor=\"start\" x=\"132\" y=\"-7.8\" font-family=\"Helvetica,sans-Serif\" font-size=\"14.00\">value = 0.593</text>\n",
       "</g>\n",
       "<!-- 2&#45;&gt;4 -->\n",
       "<g id=\"edge4\" class=\"edge\">\n",
       "<title>2&#45;&gt;4</title>\n",
       "<path fill=\"none\" stroke=\"black\" d=\"M172.35,-88.95C172.44,-80.72 172.53,-71.85 172.62,-63.48\"/>\n",
       "<polygon fill=\"black\" stroke=\"black\" points=\"176.12,-63.27 172.73,-53.24 169.12,-63.2 176.12,-63.27\"/>\n",
       "</g>\n",
       "<!-- 6 -->\n",
       "<g id=\"node7\" class=\"node\">\n",
       "<title>6</title>\n",
       "<path fill=\"#fae5d6\" stroke=\"black\" d=\"M328,-53C328,-53 254,-53 254,-53 248,-53 242,-47 242,-41 242,-41 242,-12 242,-12 242,-6 248,0 254,0 254,0 328,0 328,0 334,0 340,-6 340,-12 340,-12 340,-41 340,-41 340,-47 334,-53 328,-53\"/>\n",
       "<text text-anchor=\"start\" x=\"253\" y=\"-37.8\" font-family=\"Helvetica,sans-Serif\" font-size=\"14.00\">mse = 0.311</text>\n",
       "<text text-anchor=\"start\" x=\"250\" y=\"-22.8\" font-family=\"Helvetica,sans-Serif\" font-size=\"14.00\">samples = 24</text>\n",
       "<text text-anchor=\"start\" x=\"250\" y=\"-7.8\" font-family=\"Helvetica,sans-Serif\" font-size=\"14.00\">value = 0.827</text>\n",
       "</g>\n",
       "<!-- 5&#45;&gt;6 -->\n",
       "<g id=\"edge6\" class=\"edge\">\n",
       "<title>5&#45;&gt;6</title>\n",
       "<path fill=\"none\" stroke=\"black\" d=\"M291.65,-88.95C291.56,-80.72 291.47,-71.85 291.38,-63.48\"/>\n",
       "<polygon fill=\"black\" stroke=\"black\" points=\"294.88,-63.2 291.27,-53.24 287.88,-63.27 294.88,-63.2\"/>\n",
       "</g>\n",
       "<!-- 7 -->\n",
       "<g id=\"node8\" class=\"node\">\n",
       "<title>7</title>\n",
       "<path fill=\"#fdf7f3\" stroke=\"black\" d=\"M444,-53C444,-53 370,-53 370,-53 364,-53 358,-47 358,-41 358,-41 358,-12 358,-12 358,-6 364,0 370,0 370,0 444,0 444,0 450,0 456,-6 456,-12 456,-12 456,-41 456,-41 456,-47 450,-53 444,-53\"/>\n",
       "<text text-anchor=\"start\" x=\"369\" y=\"-37.8\" font-family=\"Helvetica,sans-Serif\" font-size=\"14.00\">mse = 0.095</text>\n",
       "<text text-anchor=\"start\" x=\"366\" y=\"-22.8\" font-family=\"Helvetica,sans-Serif\" font-size=\"14.00\">samples = 34</text>\n",
       "<text text-anchor=\"start\" x=\"366\" y=\"-7.8\" font-family=\"Helvetica,sans-Serif\" font-size=\"14.00\">value = 0.529</text>\n",
       "</g>\n",
       "<!-- 5&#45;&gt;7 -->\n",
       "<g id=\"edge7\" class=\"edge\">\n",
       "<title>5&#45;&gt;7</title>\n",
       "<path fill=\"none\" stroke=\"black\" d=\"M332.22,-88.95C343.8,-79.43 356.41,-69.07 367.92,-59.62\"/>\n",
       "<polygon fill=\"black\" stroke=\"black\" points=\"370.18,-62.29 375.68,-53.24 365.73,-56.88 370.18,-62.29\"/>\n",
       "</g>\n",
       "</g>\n",
       "</svg>\n"
      ],
      "text/plain": [
       "<graphviz.files.Source at 0x12cdb2668>"
      ]
     },
     "execution_count": 29,
     "metadata": {},
     "output_type": "execute_result"
    }
   ],
   "source": [
    "dot_data = tree.export_graphviz(clf2, out_file=None, \n",
    "                         feature_names=list(X_train),  \n",
    "                         filled=True, rounded=True,  \n",
    "                         special_characters=True)  \n",
    "graph = graphviz.Source(dot_data)  \n",
    "graph"
   ]
  },
  {
   "cell_type": "code",
   "execution_count": 12,
   "metadata": {},
   "outputs": [],
   "source": [
    "y_pred = clf2.predict(X_test)\n",
    "\n",
    "from sklearn.metrics import mean_squared_error,mean_absolute_error,r2_score"
   ]
  },
  {
   "cell_type": "code",
   "execution_count": 13,
   "metadata": {},
   "outputs": [
    {
     "name": "stdout",
     "output_type": "stream",
     "text": [
      "0.3195810512379378\n"
     ]
    }
   ],
   "source": [
    "print(mean_squared_error(y_test, y_pred) ** 0.5)"
   ]
  },
  {
   "cell_type": "code",
   "execution_count": 14,
   "metadata": {},
   "outputs": [
    {
     "name": "stdout",
     "output_type": "stream",
     "text": [
      "0.2419516811465109\n"
     ]
    }
   ],
   "source": [
    "print(mean_absolute_error(y_test, y_pred))"
   ]
  },
  {
   "cell_type": "code",
   "execution_count": 15,
   "metadata": {},
   "outputs": [
    {
     "name": "stdout",
     "output_type": "stream",
     "text": [
      "-0.1268070674117514\n"
     ]
    }
   ],
   "source": [
    "print(r2_score(y_test, y_pred))"
   ]
  },
  {
   "cell_type": "code",
   "execution_count": 35,
   "metadata": {},
   "outputs": [
    {
     "name": "stderr",
     "output_type": "stream",
     "text": [
      "/Users/sujit.deokar/Documents/python_env/Rubiscape_stage/lib/python3.5/site-packages/sklearn/model_selection/_split.py:296: FutureWarning: Setting a random_state has no effect since shuffle is False. This will raise an error in 0.24. You should leave random_state to its default (None), or set shuffle=True.\n",
      "  FutureWarning\n"
     ]
    },
    {
     "data": {
      "text/plain": [
       "GridSearchCV(cv=KFold(n_splits=5, random_state=42, shuffle=False),\n",
       "             error_score=nan,\n",
       "             estimator=DecisionTreeRegressor(ccp_alpha=0.0, criterion='mse',\n",
       "                                             max_depth=None, max_features=None,\n",
       "                                             max_leaf_nodes=None,\n",
       "                                             min_impurity_decrease=0.0,\n",
       "                                             min_impurity_split=None,\n",
       "                                             min_samples_leaf=1,\n",
       "                                             min_samples_split=2,\n",
       "                                             min_weight_fraction_leaf=0.0,\n",
       "                                             presort='deprecated',\n",
       "                                             random_state=2018,\n",
       "                                             splitter='best'),\n",
       "             iid='deprecated', n_jobs=None,\n",
       "             param_grid={'max_depth': [3, 4, 5, 6, 7, 8, 9],\n",
       "                         'min_samples_leaf': [5, 10, 15],\n",
       "                         'min_samples_split': [5, 10, 20, 25, 30]},\n",
       "             pre_dispatch='2*n_jobs', refit=True, return_train_score=False,\n",
       "             scoring='r2', verbose=0)"
      ]
     },
     "execution_count": 35,
     "metadata": {},
     "output_type": "execute_result"
    }
   ],
   "source": [
    "\n",
    "depth_range = [3,4,5,6,7,8,9]\n",
    "minsplit_range = [5,10,20,25,30]\n",
    "minleaf_range = [5,10,15]\n",
    "\n",
    "parameters = dict(max_depth=depth_range,\n",
    "                  min_samples_split=minsplit_range, \n",
    "                  min_samples_leaf=minleaf_range)\n",
    "\n",
    "from sklearn.model_selection import KFold\n",
    "kfold = KFold(n_splits=5, random_state=42)\n",
    "from sklearn.model_selection import GridSearchCV\n",
    "clf = DecisionTreeRegressor(random_state=2018)\n",
    "cv = GridSearchCV(clf, param_grid=parameters,\n",
    "                  cv=kfold,scoring='r2')\n",
    "\n",
    "cv.fit(X,y)"
   ]
  },
  {
   "cell_type": "code",
   "execution_count": 36,
   "metadata": {},
   "outputs": [
    {
     "name": "stdout",
     "output_type": "stream",
     "text": [
      "{'min_samples_leaf': 15, 'max_depth': 3, 'min_samples_split': 5}\n",
      "-0.01635233712275246\n"
     ]
    },
    {
     "data": {
      "text/plain": [
       "DecisionTreeRegressor(ccp_alpha=0.0, criterion='mse', max_depth=3,\n",
       "                      max_features=None, max_leaf_nodes=None,\n",
       "                      min_impurity_decrease=0.0, min_impurity_split=None,\n",
       "                      min_samples_leaf=15, min_samples_split=5,\n",
       "                      min_weight_fraction_leaf=0.0, presort='deprecated',\n",
       "                      random_state=2018, splitter='best')"
      ]
     },
     "execution_count": 36,
     "metadata": {},
     "output_type": "execute_result"
    }
   ],
   "source": [
    "print(cv.best_params_)\n",
    "\n",
    "print(cv.best_score_)\n",
    "\n",
    "cv.best_estimator_"
   ]
  },
  {
   "cell_type": "code",
   "execution_count": 37,
   "metadata": {},
   "outputs": [
    {
     "data": {
      "image/png": "[encoded data removed]",
      "text/plain": [
       "<Figure size 432x288 with 1 Axes>"
      ]
     },
     "metadata": {
      "needs_background": "light"
     },
     "output_type": "display_data"
    }
   ],
   "source": [
    "best_model = cv.best_estimator_\n",
    "import matplotlib.pyplot as plt\n",
    "\n",
    "best_model.feature_importances_\n",
    "\n",
    "ind = np.arange(8)\n",
    "plt.bar(ind,best_model.feature_importances_)\n",
    "plt.xticks(ind,(X.columns),rotation=45)\n",
    "plt.title('Feature Importance')\n",
    "plt.xlabel(\"Variables\")\n",
    "plt.show()"
   ]
  },
  {
   "cell_type": "code",
   "execution_count": null,
   "metadata": {},
   "outputs": [],
   "source": []
  }
 ],
 "metadata": {
  "kernelspec": {
   "display_name": "Python 3",
   "language": "python",
   "name": "python3"
  },
  "language_info": {
   "codemirror_mode": {
    "name": "ipython",
    "version": 3
   },
   "file_extension": ".py",
   "mimetype": "text/x-python",
   "name": "python",
   "nbconvert_exporter": "python",
   "pygments_lexer": "ipython3",
   "version": "3.5.4"
  }
 },
 "nbformat": 4,
 "nbformat_minor": 2
}
